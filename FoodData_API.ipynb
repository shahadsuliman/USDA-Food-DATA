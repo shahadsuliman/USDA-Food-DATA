{
 "cells": [
  {
   "cell_type": "code",
   "execution_count": 24,
   "metadata": {
    "collapsed": false,
    "deletable": true,
    "editable": true
   },
   "outputs": [
    {
     "data": {
      "text/plain": [
       "{'address': 'Denver+CO',\n",
       " 'api_key': 'dckzqqFYqhjvUiEQ9XjUDhQEmckxhwXOkb0HeTZF',\n",
       " 'pageSize': 40}"
      ]
     },
     "execution_count": 24,
     "metadata": {},
     "output_type": "execute_result"
    }
   ],
   "source": [
    "import requests \n",
    "import json\n",
    "import os \n",
    "# api-endpoint \n",
    "# location given here \n",
    "location = \"Denver+CO\"\n",
    "try:\n",
    "    api_key = open(\"key.txt\").read()\n",
    "    if (len(api_key)<2):\n",
    "        print(\"Error: Key.txt file is empty ..\")\n",
    "except IOError:\n",
    "      print (\"Error: Key.txt File does not appear to exist.\")\n",
    "\n",
    "#Define the main parameters \n",
    "PARAMS = {'address':location, 'pageSize': 40, 'api_key': api_key} \n",
    "PARAMS"
   ]
  },
  {
   "cell_type": "code",
   "execution_count": 36,
   "metadata": {
    "collapsed": false,
    "deletable": true,
    "editable": true
   },
   "outputs": [],
   "source": [
    "#Retrieves a paged list of foods. Use PageSize to set the Maximum number of results to return for the current page. Default is 50\n",
    "def getListofFoodJSON(PARAMS):\n",
    "    URL = \"https://api.nal.usda.gov/fdc/v1/foods/list\"\n",
    "    #sending get request and saving the response as response object \n",
    "    r = requests.get(url = URL, params = PARAMS) \n",
    "    # extracting data in json format \n",
    "    data = r.json() \n",
    "    return data\n",
    "\n",
    "#Filter the list of food to keep the main information only\n",
    "def ParseListofFood(list_):\n",
    "    new_list = []\n",
    "    main_info = ['dataType','fdcId','description']\n",
    "    main_nuts = ['204','205','291','296','208','203'] #carbs, fiber, fat, energy and protein \n",
    "    for food in list_:\n",
    "        new_food_dict = {k: v for k, v in food.items() if k in main_info}\n",
    "        nuts_list = food['foodNutrients']\n",
    "        new_nuts_list = []\n",
    "        for food_nut in nuts_list:\n",
    "            for key, value in food_nut.items():\n",
    "                if key == \"number\" and value in main_nuts:\n",
    "                    new_nuts_list.append(food_nut)\n",
    "        new_food_dict['foodNutrients'] = new_nuts_list\n",
    "        new_list.append(new_food_dict)\n",
    "    return new_list   \n",
    "\n",
    "#Fetches details for a food item using input FDC ID\n",
    "def getReportJSON(fdcID,PARAMS,foodType=\"\"):\n",
    "    URL = \"https://api.nal.usda.gov/fdc/v1/food/\"+str(fdcID)\n",
    "    r = requests.get(url = URL, params = PARAMS) \n",
    "    # extracting data in json format \n",
    "    data = r.json() \n",
    "    return data\n",
    "\n",
    "def getReportsJSON(fdcIDs,PARAMS,foodType=\"\"):\n",
    "    URL = \"https://api.nal.usda.gov/fdc/v1/foods\"\n",
    "    PARAMS['fdcIds'] = fdcIDs\n",
    "    r = requests.get(url = URL, params = PARAMS) \n",
    "    # extracting data in json format \n",
    "    data = r.json() \n",
    "    return data\n",
    "\n",
    "#Item: is a json object of a single food item \n",
    "def getPortionInfo(item):\n",
    "    info = {}\n",
    "    gramWieght = item['foodPortions'][0]['gramWeight']\n",
    "    amount = item['foodPortions'][0]['amount']\n",
    "    measureUnit_abb = item['foodPortions'][0]['measureUnit']['abbreviation']\n",
    "    measureUnit_name = item['foodPortions'][0]['measureUnit']['name']\n",
    "    measureUnit_id = item['foodPortions'][0]['measureUnit']['id']\n",
    "    info['gramWieght'] = gramWieght\n",
    "    info['amount'] = amount\n",
    "    info['measureUnit_abb'] = measureUnit_abb\n",
    "    info['measureUnit_name'] = measureUnit_name\n",
    "    info['measureUnit_id'] = measureUnit_id\n",
    "    return info\n",
    "    "
   ]
  },
  {
   "cell_type": "code",
   "execution_count": 29,
   "metadata": {
    "collapsed": false,
    "deletable": true,
    "editable": true,
    "scrolled": false
   },
   "outputs": [
    {
     "name": "stdout",
     "output_type": "stream",
     "text": [
      "<class 'list'>\n",
      "<class 'dict'>\n"
     ]
    }
   ],
   "source": [
    "data = getListofFoodJSON(PARAMS)\n",
    "print(type(data))\n",
    "print(type(data[0]))"
   ]
  },
  {
   "cell_type": "code",
   "execution_count": 39,
   "metadata": {
    "collapsed": false,
    "deletable": true,
    "editable": true
   },
   "outputs": [
    {
     "data": {
      "text/plain": [
       "{'amount': 1.0,\n",
       " 'gramWieght': 223.0,\n",
       " 'measureUnit_abb': 'cup',\n",
       " 'measureUnit_id': 1000,\n",
       " 'measureUnit_name': 'cup'}"
      ]
     },
     "execution_count": 39,
     "metadata": {},
     "output_type": "execute_result"
    }
   ],
   "source": [
    "\n",
    "data = getReportsJSON(keys,PARAMS)\n",
    "data[0]\n",
    "getPortionInfo(data[0])"
   ]
  },
  {
   "cell_type": "markdown",
   "metadata": {},
   "source": [
    "### Build a pandas df to map measures information to IDs \n",
    " Measures information includes: measure unit abbreviation, measure unit name and measure unit ID\n",
    " \n",
    " Note: this is only applicable to Foundation food dataset"
   ]
  },
  {
   "cell_type": "code",
   "execution_count": 38,
   "metadata": {
    "collapsed": false,
    "deletable": true,
    "editable": true
   },
   "outputs": [
    {
     "data": {
      "text/plain": [
       "35"
      ]
     },
     "execution_count": 38,
     "metadata": {},
     "output_type": "execute_result"
    }
   ],
   "source": [
    "import pandas as pd\n",
    "#Map all measures to ids (measure abb, name , id)\n",
    "measure_abbs = [] \n",
    "measure_names = []\n",
    "measure_ids = []\n",
    "df_dict = {}\n",
    "for item in data:\n",
    "    dict_ = getPortionInfo(item)\n",
    "    measure_abbs.append(dict_['measureUnit_abb'])\n",
    "    measure_ids.append(dict_['measureUnit_id'])\n",
    "    measure_names.append(dict_['measureUnit_name'])\n",
    "df_dict[\"name\"] = measure_names\n",
    "df_dict[\"abb\"] = measure_abbs\n",
    "df_dict[\"id\"] = measure_ids\n",
    "\n",
    "df = pd.DataFrame.from_dict(df_dict)\n",
    "len(df)"
   ]
  }
 ],
 "metadata": {
  "kernelspec": {
   "display_name": "Python 3",
   "language": "python",
   "name": "python3"
  },
  "language_info": {
   "codemirror_mode": {
    "name": "ipython",
    "version": 3
   },
   "file_extension": ".py",
   "mimetype": "text/x-python",
   "name": "python",
   "nbconvert_exporter": "python",
   "pygments_lexer": "ipython3",
   "version": "3.6.3"
  }
 },
 "nbformat": 4,
 "nbformat_minor": 2
}
